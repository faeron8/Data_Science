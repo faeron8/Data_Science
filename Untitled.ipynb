{
 "cells": [
  {
   "cell_type": "code",
   "execution_count": 1,
   "id": "46caeb1b-1b8c-4c1b-9a20-7792d7e7bb37",
   "metadata": {},
   "outputs": [],
   "source": [
    "%matplotlib inline"
   ]
  },
  {
   "cell_type": "code",
   "execution_count": 2,
   "id": "ffe0eddf-6e93-41f7-972c-b0e38b86fc32",
   "metadata": {},
   "outputs": [],
   "source": [
    "import numpy as np\n",
    "import pandas as pd\n",
    "import matplotlib.pyplot as plt\n",
    "import seaborn as sns\n",
    "\n",
    "import warnings\n",
    "warnings.filterwarnings('ignore')"
   ]
  },
  {
   "cell_type": "markdown",
   "id": "a16bbe19-ea31-47d1-aece-7b32737430af",
   "metadata": {},
   "source": [
    "# Data Science USA Job Market\n",
    "\n",
    "According to a report by LinkedIn, Data Science dominates its emerging job ranking with a blazing 37% hiring growth over the past three years. Data Science is transforming almost every industry and gaining popularity day by day.\n",
    "\n",
    "Data Science enables businesses to efficiently understand big data from multiple sources and derive valuable insights to make smarter data-driven decisions. Data Science is widely used in various industry domains, including marketing, healthcare, finance, banking, policy work, and more.\n",
    "\n",
    "With its mark in practically every industry, Data Science job demand is estimated to rise several-fold in the future."
   ]
  },
  {
   "cell_type": "markdown",
   "id": "c908e27d-4aa3-4a37-8465-25da986960c1",
   "metadata": {},
   "source": [
    "#### Table of Contents\n",
    "\n",
    "1. [Areas of Interest](#areas_of_interest)\n",
    "2. [Data Cleaning and Preparation](#data_cleaning)"
   ]
  },
  {
   "cell_type": "markdown",
   "id": "ceb828f7-0260-49e4-ac53-f5250a5a8327",
   "metadata": {},
   "source": [
    " <a name=\"areas_of_interest\"></a>\n",
    "### 1. Areas of Interest\n",
    "\n",
    "For this project we will use three different datasets, that provide us with observations of different aspects of the Data Science market:\n",
    "\n",
    "- \"DataScientist.csv\" - containing data, that is scraped from Glassdoor, providing us with a lot of information about the US job market. It can be found on [Kaggle](https://www.kaggle.com/code/salehahmedrony/data-science-jobs-eda).\n",
    "\n",
    "- \"indeed_job_dataset.csv\" - a collection of observations from indeed.com, it can also be downloaded on Kaggle [here](https://www.kaggle.com/datasets/promptcloud/indeed-job-posting-dataset)\n",
    "\n",
    "<br></br>\n",
    "#### Based on the mentioned above, we can ask our data the following questions:\n",
    "\n",
    "1. What is the current state of the data science job market?\n",
    "\n",
    "2. Is there a meaningful difference between the Data Science salaries in the US states?\n",
    "\n",
    "3. What are the top skills demanded by the employers?"
   ]
  },
  {
   "cell_type": "markdown",
   "id": "9a2c294c-1d8a-402c-bce8-d8805bf7498f",
   "metadata": {},
   "source": [
    " <a name=\"data_cleaning\"></a>\n",
    "### 2. Data Cleaning and Preparation\n",
    "\n",
    "Let's read the first dataset see how our data looks:"
   ]
  },
  {
   "cell_type": "code",
   "execution_count": 3,
   "id": "d9545edf-57e2-4759-a6d0-91a8fad03cd3",
   "metadata": {},
   "outputs": [],
   "source": [
    "data_us = pd.read_csv(\"data/DataScientist.csv\")"
   ]
  },
  {
   "cell_type": "code",
   "execution_count": 4,
   "id": "01390c26-6bdd-4d7b-bae0-909cea2be286",
   "metadata": {},
   "outputs": [
    {
     "data": {
      "text/html": [
       "<div>\n",
       "<style scoped>\n",
       "    .dataframe tbody tr th:only-of-type {\n",
       "        vertical-align: middle;\n",
       "    }\n",
       "\n",
       "    .dataframe tbody tr th {\n",
       "        vertical-align: top;\n",
       "    }\n",
       "\n",
       "    .dataframe thead th {\n",
       "        text-align: right;\n",
       "    }\n",
       "</style>\n",
       "<table border=\"1\" class=\"dataframe\">\n",
       "  <thead>\n",
       "    <tr style=\"text-align: right;\">\n",
       "      <th></th>\n",
       "      <th>Unnamed: 0</th>\n",
       "      <th>index</th>\n",
       "      <th>Job Title</th>\n",
       "      <th>Salary Estimate</th>\n",
       "      <th>Job Description</th>\n",
       "      <th>Rating</th>\n",
       "      <th>Company Name</th>\n",
       "      <th>Location</th>\n",
       "      <th>Headquarters</th>\n",
       "      <th>Size</th>\n",
       "      <th>Founded</th>\n",
       "      <th>Type of ownership</th>\n",
       "      <th>Industry</th>\n",
       "      <th>Sector</th>\n",
       "      <th>Revenue</th>\n",
       "      <th>Competitors</th>\n",
       "      <th>Easy Apply</th>\n",
       "    </tr>\n",
       "  </thead>\n",
       "  <tbody>\n",
       "    <tr>\n",
       "      <th>0</th>\n",
       "      <td>0</td>\n",
       "      <td>0</td>\n",
       "      <td>Senior Data Scientist</td>\n",
       "      <td>$111K-$181K (Glassdoor est.)</td>\n",
       "      <td>ABOUT HOPPER\\n\\nAt Hopper, we’re on a mission ...</td>\n",
       "      <td>3.5</td>\n",
       "      <td>Hopper\\n3.5</td>\n",
       "      <td>New York, NY</td>\n",
       "      <td>Montreal, Canada</td>\n",
       "      <td>501 to 1000 employees</td>\n",
       "      <td>2007</td>\n",
       "      <td>Company - Private</td>\n",
       "      <td>Travel Agencies</td>\n",
       "      <td>Travel &amp; Tourism</td>\n",
       "      <td>Unknown / Non-Applicable</td>\n",
       "      <td>-1</td>\n",
       "      <td>-1</td>\n",
       "    </tr>\n",
       "    <tr>\n",
       "      <th>1</th>\n",
       "      <td>1</td>\n",
       "      <td>1</td>\n",
       "      <td>Data Scientist, Product Analytics</td>\n",
       "      <td>$111K-$181K (Glassdoor est.)</td>\n",
       "      <td>At Noom, we use scientifically proven methods ...</td>\n",
       "      <td>4.5</td>\n",
       "      <td>Noom US\\n4.5</td>\n",
       "      <td>New York, NY</td>\n",
       "      <td>New York, NY</td>\n",
       "      <td>1001 to 5000 employees</td>\n",
       "      <td>2008</td>\n",
       "      <td>Company - Private</td>\n",
       "      <td>Health, Beauty, &amp; Fitness</td>\n",
       "      <td>Consumer Services</td>\n",
       "      <td>Unknown / Non-Applicable</td>\n",
       "      <td>-1</td>\n",
       "      <td>-1</td>\n",
       "    </tr>\n",
       "    <tr>\n",
       "      <th>2</th>\n",
       "      <td>2</td>\n",
       "      <td>2</td>\n",
       "      <td>Data Science Manager</td>\n",
       "      <td>$111K-$181K (Glassdoor est.)</td>\n",
       "      <td>Decode_M\\n\\nhttps://www.decode-m.com/\\n\\nData ...</td>\n",
       "      <td>-1.0</td>\n",
       "      <td>Decode_M</td>\n",
       "      <td>New York, NY</td>\n",
       "      <td>New York, NY</td>\n",
       "      <td>1 to 50 employees</td>\n",
       "      <td>-1</td>\n",
       "      <td>Unknown</td>\n",
       "      <td>-1</td>\n",
       "      <td>-1</td>\n",
       "      <td>Unknown / Non-Applicable</td>\n",
       "      <td>-1</td>\n",
       "      <td>True</td>\n",
       "    </tr>\n",
       "    <tr>\n",
       "      <th>3</th>\n",
       "      <td>3</td>\n",
       "      <td>3</td>\n",
       "      <td>Data Analyst</td>\n",
       "      <td>$111K-$181K (Glassdoor est.)</td>\n",
       "      <td>Sapphire Digital seeks a dynamic and driven mi...</td>\n",
       "      <td>3.4</td>\n",
       "      <td>Sapphire Digital\\n3.4</td>\n",
       "      <td>Lyndhurst, NJ</td>\n",
       "      <td>Lyndhurst, NJ</td>\n",
       "      <td>201 to 500 employees</td>\n",
       "      <td>2019</td>\n",
       "      <td>Company - Private</td>\n",
       "      <td>Internet</td>\n",
       "      <td>Information Technology</td>\n",
       "      <td>Unknown / Non-Applicable</td>\n",
       "      <td>Zocdoc, Healthgrades</td>\n",
       "      <td>-1</td>\n",
       "    </tr>\n",
       "    <tr>\n",
       "      <th>4</th>\n",
       "      <td>4</td>\n",
       "      <td>4</td>\n",
       "      <td>Director, Data Science</td>\n",
       "      <td>$111K-$181K (Glassdoor est.)</td>\n",
       "      <td>Director, Data Science - (200537)\\nDescription...</td>\n",
       "      <td>3.4</td>\n",
       "      <td>United Entertainment Group\\n3.4</td>\n",
       "      <td>New York, NY</td>\n",
       "      <td>New York, NY</td>\n",
       "      <td>51 to 200 employees</td>\n",
       "      <td>2007</td>\n",
       "      <td>Company - Private</td>\n",
       "      <td>Advertising &amp; Marketing</td>\n",
       "      <td>Business Services</td>\n",
       "      <td>Unknown / Non-Applicable</td>\n",
       "      <td>BBDO, Grey Group, Droga5</td>\n",
       "      <td>-1</td>\n",
       "    </tr>\n",
       "  </tbody>\n",
       "</table>\n",
       "</div>"
      ],
      "text/plain": [
       "   Unnamed: 0  index                          Job Title  \\\n",
       "0           0      0              Senior Data Scientist   \n",
       "1           1      1  Data Scientist, Product Analytics   \n",
       "2           2      2               Data Science Manager   \n",
       "3           3      3                       Data Analyst   \n",
       "4           4      4             Director, Data Science   \n",
       "\n",
       "                Salary Estimate  \\\n",
       "0  $111K-$181K (Glassdoor est.)   \n",
       "1  $111K-$181K (Glassdoor est.)   \n",
       "2  $111K-$181K (Glassdoor est.)   \n",
       "3  $111K-$181K (Glassdoor est.)   \n",
       "4  $111K-$181K (Glassdoor est.)   \n",
       "\n",
       "                                     Job Description  Rating  \\\n",
       "0  ABOUT HOPPER\\n\\nAt Hopper, we’re on a mission ...     3.5   \n",
       "1  At Noom, we use scientifically proven methods ...     4.5   \n",
       "2  Decode_M\\n\\nhttps://www.decode-m.com/\\n\\nData ...    -1.0   \n",
       "3  Sapphire Digital seeks a dynamic and driven mi...     3.4   \n",
       "4  Director, Data Science - (200537)\\nDescription...     3.4   \n",
       "\n",
       "                      Company Name       Location      Headquarters  \\\n",
       "0                      Hopper\\n3.5   New York, NY  Montreal, Canada   \n",
       "1                     Noom US\\n4.5   New York, NY      New York, NY   \n",
       "2                         Decode_M   New York, NY      New York, NY   \n",
       "3            Sapphire Digital\\n3.4  Lyndhurst, NJ     Lyndhurst, NJ   \n",
       "4  United Entertainment Group\\n3.4   New York, NY      New York, NY   \n",
       "\n",
       "                     Size  Founded  Type of ownership  \\\n",
       "0   501 to 1000 employees     2007  Company - Private   \n",
       "1  1001 to 5000 employees     2008  Company - Private   \n",
       "2       1 to 50 employees       -1            Unknown   \n",
       "3    201 to 500 employees     2019  Company - Private   \n",
       "4     51 to 200 employees     2007  Company - Private   \n",
       "\n",
       "                    Industry                  Sector  \\\n",
       "0            Travel Agencies        Travel & Tourism   \n",
       "1  Health, Beauty, & Fitness       Consumer Services   \n",
       "2                         -1                      -1   \n",
       "3                   Internet  Information Technology   \n",
       "4    Advertising & Marketing       Business Services   \n",
       "\n",
       "                    Revenue               Competitors Easy Apply  \n",
       "0  Unknown / Non-Applicable                        -1         -1  \n",
       "1  Unknown / Non-Applicable                        -1         -1  \n",
       "2  Unknown / Non-Applicable                        -1       True  \n",
       "3  Unknown / Non-Applicable      Zocdoc, Healthgrades         -1  \n",
       "4  Unknown / Non-Applicable  BBDO, Grey Group, Droga5         -1  "
      ]
     },
     "execution_count": 4,
     "metadata": {},
     "output_type": "execute_result"
    }
   ],
   "source": [
    "data_us.head()"
   ]
  },
  {
   "cell_type": "code",
   "execution_count": 5,
   "id": "068aa585-e5b3-4ac5-90df-e2f7ae86d180",
   "metadata": {},
   "outputs": [
    {
     "name": "stdout",
     "output_type": "stream",
     "text": [
      "<class 'pandas.core.frame.DataFrame'>\n",
      "RangeIndex: 3909 entries, 0 to 3908\n",
      "Data columns (total 17 columns):\n",
      " #   Column             Non-Null Count  Dtype  \n",
      "---  ------             --------------  -----  \n",
      " 0   Unnamed: 0         3909 non-null   int64  \n",
      " 1   index              3909 non-null   int64  \n",
      " 2   Job Title          3909 non-null   object \n",
      " 3   Salary Estimate    3909 non-null   object \n",
      " 4   Job Description    3909 non-null   object \n",
      " 5   Rating             3909 non-null   float64\n",
      " 6   Company Name       3909 non-null   object \n",
      " 7   Location           3909 non-null   object \n",
      " 8   Headquarters       3909 non-null   object \n",
      " 9   Size               3909 non-null   object \n",
      " 10  Founded            3909 non-null   int64  \n",
      " 11  Type of ownership  3909 non-null   object \n",
      " 12  Industry           3909 non-null   object \n",
      " 13  Sector             3909 non-null   object \n",
      " 14  Revenue            3909 non-null   object \n",
      " 15  Competitors        3909 non-null   object \n",
      " 16  Easy Apply         3909 non-null   object \n",
      "dtypes: float64(1), int64(3), object(13)\n",
      "memory usage: 519.3+ KB\n"
     ]
    }
   ],
   "source": [
    "data_us.info()"
   ]
  },
  {
   "cell_type": "code",
   "execution_count": 6,
   "id": "e80dbc79-f018-4c5a-83e2-8d0b151d3039",
   "metadata": {},
   "outputs": [
    {
     "data": {
      "text/html": [
       "<div>\n",
       "<style scoped>\n",
       "    .dataframe tbody tr th:only-of-type {\n",
       "        vertical-align: middle;\n",
       "    }\n",
       "\n",
       "    .dataframe tbody tr th {\n",
       "        vertical-align: top;\n",
       "    }\n",
       "\n",
       "    .dataframe thead th {\n",
       "        text-align: right;\n",
       "    }\n",
       "</style>\n",
       "<table border=\"1\" class=\"dataframe\">\n",
       "  <thead>\n",
       "    <tr style=\"text-align: right;\">\n",
       "      <th></th>\n",
       "      <th>count</th>\n",
       "      <th>mean</th>\n",
       "      <th>std</th>\n",
       "      <th>min</th>\n",
       "      <th>25%</th>\n",
       "      <th>50%</th>\n",
       "      <th>75%</th>\n",
       "      <th>max</th>\n",
       "    </tr>\n",
       "  </thead>\n",
       "  <tbody>\n",
       "    <tr>\n",
       "      <th>Unnamed: 0</th>\n",
       "      <td>3909.0</td>\n",
       "      <td>1954.000000</td>\n",
       "      <td>1128.575429</td>\n",
       "      <td>0.0</td>\n",
       "      <td>977.0</td>\n",
       "      <td>1954.0</td>\n",
       "      <td>2931.0</td>\n",
       "      <td>3908.0</td>\n",
       "    </tr>\n",
       "    <tr>\n",
       "      <th>index</th>\n",
       "      <td>3909.0</td>\n",
       "      <td>2167.446662</td>\n",
       "      <td>1247.657849</td>\n",
       "      <td>0.0</td>\n",
       "      <td>1121.0</td>\n",
       "      <td>2161.0</td>\n",
       "      <td>3249.0</td>\n",
       "      <td>4379.0</td>\n",
       "    </tr>\n",
       "    <tr>\n",
       "      <th>Rating</th>\n",
       "      <td>3909.0</td>\n",
       "      <td>3.283576</td>\n",
       "      <td>1.575749</td>\n",
       "      <td>-1.0</td>\n",
       "      <td>3.2</td>\n",
       "      <td>3.7</td>\n",
       "      <td>4.1</td>\n",
       "      <td>5.0</td>\n",
       "    </tr>\n",
       "    <tr>\n",
       "      <th>Founded</th>\n",
       "      <td>3909.0</td>\n",
       "      <td>1479.154771</td>\n",
       "      <td>855.750138</td>\n",
       "      <td>-1.0</td>\n",
       "      <td>1625.0</td>\n",
       "      <td>1976.0</td>\n",
       "      <td>2002.0</td>\n",
       "      <td>2020.0</td>\n",
       "    </tr>\n",
       "  </tbody>\n",
       "</table>\n",
       "</div>"
      ],
      "text/plain": [
       "             count         mean          std  min     25%     50%     75%  \\\n",
       "Unnamed: 0  3909.0  1954.000000  1128.575429  0.0   977.0  1954.0  2931.0   \n",
       "index       3909.0  2167.446662  1247.657849  0.0  1121.0  2161.0  3249.0   \n",
       "Rating      3909.0     3.283576     1.575749 -1.0     3.2     3.7     4.1   \n",
       "Founded     3909.0  1479.154771   855.750138 -1.0  1625.0  1976.0  2002.0   \n",
       "\n",
       "               max  \n",
       "Unnamed: 0  3908.0  \n",
       "index       4379.0  \n",
       "Rating         5.0  \n",
       "Founded     2020.0  "
      ]
     },
     "execution_count": 6,
     "metadata": {},
     "output_type": "execute_result"
    }
   ],
   "source": [
    "data_us.describe().T"
   ]
  },
  {
   "cell_type": "markdown",
   "id": "61ab081d-0303-4610-830a-cbb90048c455",
   "metadata": {},
   "source": [
    "#### Key Findings:\n",
    "\n",
    "- Our dataset contains 3909 observations and 17 features\n",
    "\n",
    "- No feature has NaN values, but we can see that in our case the NaN values are replaced by some other value(s) like -1, 0, etc.\n",
    "\n",
    "- There are 2 unneeded index columns that must be removed.\n",
    "\n",
    "- The Sector and the Industry columns provide us with very similar information and it would be a good idea to remove one of them. In our case we will leave the Industry column, and remove Sector.\n",
    "\n",
    "- We can remove the Headquarters column, as it is irrelevant to our project.\n",
    "\n",
    "- We would also remove the Competitors feature, as it wouldn't be needed for the purpose of this project.\n",
    "\n",
    "- Many of the columns contain information that will be cleaned\n",
    "\n",
    "- New columns will be created in order to have a better picture of the data.\n",
    "\n",
    "<br></br>\n",
    "\n",
    "#### Step 1. Remove unnecessary columns, and rename the remaining ones:"
   ]
  },
  {
   "cell_type": "code",
   "execution_count": 7,
   "id": "fbfbf132-9926-4e57-a8e1-43118f0367ea",
   "metadata": {},
   "outputs": [],
   "source": [
    "data_us.drop([\n",
    "    \n",
    "    \"Unnamed: 0\",\n",
    "    \"index\",\n",
    "    \"Sector\", \n",
    "    \"Competitors\",\n",
    "    \"Easy Apply\",\n",
    "    \"Headquarters\"\n",
    "], \n",
    "    axis = 1, \n",
    "    inplace = True\n",
    ") "
   ]
  },
  {
   "cell_type": "markdown",
   "id": "548aa91c-6596-44ea-90ea-58a18be6761e",
   "metadata": {},
   "source": [
    "- We can also rename the columns in a more \"pythonic\" way"
   ]
  },
  {
   "cell_type": "code",
   "execution_count": 8,
   "id": "0cdac34a-d49e-4ea5-b7a5-3245b7cdd40d",
   "metadata": {},
   "outputs": [],
   "source": [
    "data_us.rename(\n",
    "    columns = {\n",
    "        \n",
    "    \"Job Title\": \"job_title\",\n",
    "    \"Salary Estimate\": \"salary_estimate\",\n",
    "    \"Job Description\": \"job_description\",\n",
    "    \"Rating\": \"company_rating\",\n",
    "    \"Company Name\": \"company_name\",\n",
    "    \"Location\": \"job_location\",\n",
    "    \"Size\": \"company_size\",\n",
    "    \"Founded\": \"founding_year\",\n",
    "    \"Type of ownership\": \"type_of_ownership\",\n",
    "    \"Industry\": \"company_industry\",\n",
    "    \"Revenue\": \"company_revenue\",\n",
    "}, \n",
    "    inplace = True, \n",
    "    errors = 'raise'\n",
    ")"
   ]
  },
  {
   "cell_type": "markdown",
   "id": "2578e078-a9b4-4714-a1d9-6ea0999a8864",
   "metadata": {},
   "source": [
    "#### Step 2. Unnecessary text cleaning\n",
    "\n",
    "- Remove \"(Glassdoor est.)\", \"K\", and \"$\" from the salary_estimate column so we can work with the numbers later\n",
    "\n",
    "- The \"(USD)\" text will be removed from the revenue columns as well\n",
    "\n",
    "- Replace all digits and new rows from the \"company_name\" column\n",
    "\n",
    "- Delete \"employees from company_size column\n",
    "\n",
    "- Remove \"Company - \" from type_of_ownership column"
   ]
  },
  {
   "cell_type": "code",
   "execution_count": 9,
   "id": "16e761e8-a772-41ce-adee-1024044655cb",
   "metadata": {},
   "outputs": [],
   "source": [
    "data_us.salary_estimate = data_us.salary_estimate.apply(lambda x: x.split(\"(\")[0])\n",
    "data_us.salary_estimate = data_us.salary_estimate.apply(lambda x: x.replace(\"K\", \"\").replace(\"$\", \"\"))\n",
    "\n",
    "data_us.company_revenue = data_us.company_revenue.apply(lambda x: x.replace(\"(USD)\", \"\"))\n",
    "\n",
    "data_us.company_name = data_us.company_name.str.replace(\"[\\n.\\d+]\", \"\", regex = True)\n",
    "\n",
    "data_us.company_size = data_us.company_size.str.replace(\"employees\", \"\")\n",
    "\n",
    "data_us.type_of_ownership = data_us.type_of_ownership.apply(lambda x: x.replace(\"Company - \", \"\") )"
   ]
  },
  {
   "cell_type": "code",
   "execution_count": 10,
   "id": "ca7d5416-1b50-4586-b317-357a9836ec26",
   "metadata": {},
   "outputs": [
    {
     "data": {
      "text/plain": [
       "93-151            62\n",
       "113-180           61\n",
       "111-175           60\n",
       "71-122            60\n",
       "119-147           44\n",
       "                  ..\n",
       "34-53 Per Hour     7\n",
       "99-173             6\n",
       "146-175            3\n",
       "10-26 Per Hour     3\n",
       "41-74              1\n",
       "Name: salary_estimate, Length: 148, dtype: int64"
      ]
     },
     "execution_count": 10,
     "metadata": {},
     "output_type": "execute_result"
    }
   ],
   "source": [
    "data_us.salary_estimate.value_counts()"
   ]
  },
  {
   "cell_type": "markdown",
   "id": "ada76ad1-06ce-454c-935f-8ff3e6e45790",
   "metadata": {},
   "source": [
    "- We can also see that there are observations that include \"Per Hour\", those will be removed as well, in order to have only monthly salaries:"
   ]
  },
  {
   "cell_type": "code",
   "execution_count": 11,
   "id": "9df8d2c1-f465-404f-87cc-d8218eaffc7b",
   "metadata": {},
   "outputs": [],
   "source": [
    "data_us = data_us[data_us.salary_estimate.str.contains(\"Per Hour\") == False]"
   ]
  },
  {
   "cell_type": "markdown",
   "id": "8851b4a8-f589-49a3-84d4-831a23f2a465",
   "metadata": {
    "tags": []
   },
   "source": [
    "#### Step 3. Missing data imputation:\n",
    "\n",
    "- Let's first figure out how to handle the missing values in the company_rating column"
   ]
  },
  {
   "cell_type": "code",
   "execution_count": 12,
   "id": "71269402-17d3-41ea-9bce-1af81a2f1992",
   "metadata": {},
   "outputs": [
    {
     "data": {
      "image/png": "[encoded data removed]",
      "text/plain": [
       "<Figure size 576x432 with 1 Axes>"
      ]
     },
     "metadata": {
      "needs_background": "light"
     },
     "output_type": "display_data"
    }
   ],
   "source": [
    "plt.figure(figsize = (8, 6))\n",
    "sns.distplot(data_us.company_rating, bins = 30)\n",
    "\n",
    "plt.xlabel(\"Rating\", fontsize = 14)\n",
    "plt.ylabel(\"Occurence\", fontsize = 14)\n",
    "\n",
    "plt.title('Company Rating Distribution with -1 Values', fontsize = 16)\n",
    "\n",
    "plt.show()"
   ]
  },
  {
   "cell_type": "markdown",
   "id": "42d3d66c-b112-4a01-af84-a6f8b4d816b8",
   "metadata": {},
   "source": [
    "- Since the company_rating feature has a Gaussian/Normal Distribution, it will be appropriate to replace -1 values with the mean of the distribution."
   ]
  },
  {
   "cell_type": "code",
   "execution_count": 13,
   "id": "70ff1518-6a04-4fac-be16-8d87f1123595",
   "metadata": {},
   "outputs": [],
   "source": [
    "data_us.company_rating = data_us.company_rating.apply(lambda x: np.NaN if x == -1 else x)\n",
    "data_us.company_rating = data_us.company_rating.fillna(data_us.company_rating.mean())"
   ]
  },
  {
   "cell_type": "code",
   "execution_count": 14,
   "id": "2271e3e9-c1fe-40f2-9e35-86af79943be8",
   "metadata": {},
   "outputs": [
    {
     "data": {
      "image/png": "[encoded data removed]",
      "text/plain": [
       "<Figure size 576x432 with 1 Axes>"
      ]
     },
     "metadata": {
      "needs_background": "light"
     },
     "output_type": "display_data"
    }
   ],
   "source": [
    "plt.figure(figsize = (8, 6))\n",
    "sns.distplot(data_us.company_rating, bins = 30)\n",
    "\n",
    "plt.xlabel(\"Rating\", fontsize = 14)\n",
    "plt.ylabel(\"Occurence\", fontsize = 14)\n",
    "\n",
    "plt.title('Company Rating Distribution after handling -1 Values', fontsize = 16)\n",
    "\n",
    "plt.show()"
   ]
  },
  {
   "cell_type": "markdown",
   "id": "7b67b39d-aa88-445f-84f2-68f3292c2c33",
   "metadata": {},
   "source": [
    "- We can then continue with the missing values in the founding_year column"
   ]
  },
  {
   "cell_type": "code",
   "execution_count": 15,
   "id": "5b568a62-d758-4207-b96c-c2ae533a665e",
   "metadata": {},
   "outputs": [
    {
     "data": {
      "image/png": "[encoded data removed]",
      "text/plain": [
       "<Figure size 576x432 with 1 Axes>"
      ]
     },
     "metadata": {
      "needs_background": "light"
     },
     "output_type": "display_data"
    }
   ],
   "source": [
    "plt.figure(figsize = (8, 6))\n",
    "sns.distplot(data_us.founding_year, bins = 50)\n",
    "\n",
    "plt.xlabel(\"Years\", fontsize = 14)\n",
    "plt.ylabel(\"Occurence\", fontsize = 14)\n",
    "\n",
    "plt.title('Founding Year Distribution with -1 Values', fontsize = 16)\n",
    "\n",
    "plt.show()"
   ]
  },
  {
   "cell_type": "markdown",
   "id": "50cf61f7-2c9e-4500-8118-96007045e07e",
   "metadata": {},
   "source": [
    "- We can clearly see that this is a right-skewed distribution and it will be preferable to replace the missing values with the median."
   ]
  },
  {
   "cell_type": "code",
   "execution_count": 16,
   "id": "af151db8-546a-4367-85a3-b0436e5661f8",
   "metadata": {},
   "outputs": [],
   "source": [
    "data_us.founding_year = data_us.founding_year.apply(lambda x: np.NaN if x == -1 else x)\n",
    "data_us.founding_year = data_us.founding_year.fillna(data_us.founding_year.median())"
   ]
  },
  {
   "cell_type": "code",
   "execution_count": 17,
   "id": "74e4a130-5f0a-465a-ae76-b3eb5799fbde",
   "metadata": {},
   "outputs": [
    {
     "data": {
      "image/png": "[encoded data removed]",
      "text/plain": [
       "<Figure size 576x432 with 1 Axes>"
      ]
     },
     "metadata": {
      "needs_background": "light"
     },
     "output_type": "display_data"
    }
   ],
   "source": [
    "plt.figure(figsize = (8, 6))\n",
    "sns.distplot(data_us.founding_year, bins = 50)\n",
    "\n",
    "plt.xlabel(\"Years\", fontsize = 14)\n",
    "plt.ylabel(\"Occurence\", fontsize = 14)\n",
    "\n",
    "plt.title('Founding Year Distribution after handling -1 Values', fontsize = 16)\n",
    "\n",
    "plt.show()"
   ]
  },
  {
   "cell_type": "markdown",
   "id": "59117ba4-a98c-4e4f-a2b7-6dd3fd8cf762",
   "metadata": {},
   "source": [
    "- We should also see if there are missing values in the categorical features"
   ]
  },
  {
   "cell_type": "code",
   "execution_count": 18,
   "id": "8178d4b4-45df-4157-b79e-e85a4f4f2de2",
   "metadata": {},
   "outputs": [
    {
     "data": {
      "text/html": [
       "<div>\n",
       "<style scoped>\n",
       "    .dataframe tbody tr th:only-of-type {\n",
       "        vertical-align: middle;\n",
       "    }\n",
       "\n",
       "    .dataframe tbody tr th {\n",
       "        vertical-align: top;\n",
       "    }\n",
       "\n",
       "    .dataframe thead th {\n",
       "        text-align: right;\n",
       "    }\n",
       "</style>\n",
       "<table border=\"1\" class=\"dataframe\">\n",
       "  <thead>\n",
       "    <tr style=\"text-align: right;\">\n",
       "      <th></th>\n",
       "      <th>job_title</th>\n",
       "      <th>salary_estimate</th>\n",
       "      <th>job_description</th>\n",
       "      <th>company_rating</th>\n",
       "      <th>company_name</th>\n",
       "      <th>job_location</th>\n",
       "      <th>company_size</th>\n",
       "      <th>founding_year</th>\n",
       "      <th>type_of_ownership</th>\n",
       "      <th>company_industry</th>\n",
       "      <th>company_revenue</th>\n",
       "    </tr>\n",
       "  </thead>\n",
       "  <tbody>\n",
       "    <tr>\n",
       "      <th>55</th>\n",
       "      <td>Data Scientist, Analytics &amp; Inference</td>\n",
       "      <td>120-140</td>\n",
       "      <td>Hello, World! Codecademy has helped over 45 mi...</td>\n",
       "      <td>3.784898</td>\n",
       "      <td>Codeacademy</td>\n",
       "      <td>New York, NY</td>\n",
       "      <td>-1</td>\n",
       "      <td>1995.0</td>\n",
       "      <td>-1</td>\n",
       "      <td>-1</td>\n",
       "      <td>-1</td>\n",
       "    </tr>\n",
       "    <tr>\n",
       "      <th>61</th>\n",
       "      <td>Data Scientist - People Analytics</td>\n",
       "      <td>119-147</td>\n",
       "      <td>Doctors Without Borders/Médecins Sans Frontièr...</td>\n",
       "      <td>3.784898</td>\n",
       "      <td>Doctors Without Borders | Médecins Sans Fronti...</td>\n",
       "      <td>New York, NY</td>\n",
       "      <td>-1</td>\n",
       "      <td>1995.0</td>\n",
       "      <td>-1</td>\n",
       "      <td>-1</td>\n",
       "      <td>-1</td>\n",
       "    </tr>\n",
       "    <tr>\n",
       "      <th>63</th>\n",
       "      <td>Data Scientist</td>\n",
       "      <td>119-147</td>\n",
       "      <td>- Analyze and understand how users interact wi...</td>\n",
       "      <td>3.784898</td>\n",
       "      <td>Pierce Technology Corp</td>\n",
       "      <td>New York, NY</td>\n",
       "      <td>-1</td>\n",
       "      <td>1995.0</td>\n",
       "      <td>-1</td>\n",
       "      <td>-1</td>\n",
       "      <td>-1</td>\n",
       "    </tr>\n",
       "    <tr>\n",
       "      <th>82</th>\n",
       "      <td>Data Scientist</td>\n",
       "      <td>74-124</td>\n",
       "      <td>A retail energy provider in New York is lookin...</td>\n",
       "      <td>3.784898</td>\n",
       "      <td>Huxley Banking &amp; Financial Services</td>\n",
       "      <td>New York, NY</td>\n",
       "      <td>-1</td>\n",
       "      <td>1995.0</td>\n",
       "      <td>-1</td>\n",
       "      <td>-1</td>\n",
       "      <td>-1</td>\n",
       "    </tr>\n",
       "    <tr>\n",
       "      <th>89</th>\n",
       "      <td>Data Scientist/Data Architect</td>\n",
       "      <td>74-124</td>\n",
       "      <td>Job Description\\nSr. Big Data Architect:\\n\\n# ...</td>\n",
       "      <td>3.784898</td>\n",
       "      <td>Financial Services Company</td>\n",
       "      <td>New York, NY</td>\n",
       "      <td>-1</td>\n",
       "      <td>1995.0</td>\n",
       "      <td>-1</td>\n",
       "      <td>-1</td>\n",
       "      <td>-1</td>\n",
       "    </tr>\n",
       "    <tr>\n",
       "      <th>...</th>\n",
       "      <td>...</td>\n",
       "      <td>...</td>\n",
       "      <td>...</td>\n",
       "      <td>...</td>\n",
       "      <td>...</td>\n",
       "      <td>...</td>\n",
       "      <td>...</td>\n",
       "      <td>...</td>\n",
       "      <td>...</td>\n",
       "      <td>...</td>\n",
       "      <td>...</td>\n",
       "    </tr>\n",
       "    <tr>\n",
       "      <th>3814</th>\n",
       "      <td>Data Engineer</td>\n",
       "      <td>52-94</td>\n",
       "      <td>Helping patients, pathologists and physicians ...</td>\n",
       "      <td>3.784898</td>\n",
       "      <td>Deep Lens</td>\n",
       "      <td>Columbus, OH</td>\n",
       "      <td>-1</td>\n",
       "      <td>1995.0</td>\n",
       "      <td>-1</td>\n",
       "      <td>-1</td>\n",
       "      <td>-1</td>\n",
       "    </tr>\n",
       "    <tr>\n",
       "      <th>3827</th>\n",
       "      <td>Data Engineer</td>\n",
       "      <td>55-113</td>\n",
       "      <td>Greetings,\\n\\nJob Title- Data Engineer ( Netez...</td>\n",
       "      <td>3.784898</td>\n",
       "      <td>R Tek</td>\n",
       "      <td>Columbus, OH</td>\n",
       "      <td>-1</td>\n",
       "      <td>1995.0</td>\n",
       "      <td>-1</td>\n",
       "      <td>-1</td>\n",
       "      <td>-1</td>\n",
       "    </tr>\n",
       "    <tr>\n",
       "      <th>3866</th>\n",
       "      <td>Financial Data Analyst</td>\n",
       "      <td>39-86</td>\n",
       "      <td>Aspen Careers is currently working with a down...</td>\n",
       "      <td>3.784898</td>\n",
       "      <td>Aspen Careers, LLC</td>\n",
       "      <td>Columbus, OH</td>\n",
       "      <td>-1</td>\n",
       "      <td>1995.0</td>\n",
       "      <td>-1</td>\n",
       "      <td>-1</td>\n",
       "      <td>-1</td>\n",
       "    </tr>\n",
       "    <tr>\n",
       "      <th>3882</th>\n",
       "      <td>Big Data Engineer</td>\n",
       "      <td>55-112</td>\n",
       "      <td>RESPONSIBILITIES Kforce has a client in search...</td>\n",
       "      <td>3.784898</td>\n",
       "      <td>Kforce Technology Staffing</td>\n",
       "      <td>Columbus, OH</td>\n",
       "      <td>-1</td>\n",
       "      <td>1995.0</td>\n",
       "      <td>-1</td>\n",
       "      <td>-1</td>\n",
       "      <td>-1</td>\n",
       "    </tr>\n",
       "    <tr>\n",
       "      <th>3886</th>\n",
       "      <td>Big Data Engineer</td>\n",
       "      <td>55-112</td>\n",
       "      <td>Job Description:\\nAct as a strong developer us...</td>\n",
       "      <td>3.784898</td>\n",
       "      <td>Zllius Inc</td>\n",
       "      <td>Columbus, OH</td>\n",
       "      <td>-1</td>\n",
       "      <td>1995.0</td>\n",
       "      <td>-1</td>\n",
       "      <td>-1</td>\n",
       "      <td>-1</td>\n",
       "    </tr>\n",
       "  </tbody>\n",
       "</table>\n",
       "<p>229 rows × 11 columns</p>\n",
       "</div>"
      ],
      "text/plain": [
       "                                  job_title salary_estimate  \\\n",
       "55    Data Scientist, Analytics & Inference        120-140    \n",
       "61        Data Scientist - People Analytics        119-147    \n",
       "63                           Data Scientist        119-147    \n",
       "82                           Data Scientist         74-124    \n",
       "89            Data Scientist/Data Architect         74-124    \n",
       "...                                     ...             ...   \n",
       "3814                          Data Engineer          52-94    \n",
       "3827                          Data Engineer         55-113    \n",
       "3866                 Financial Data Analyst          39-86    \n",
       "3882                      Big Data Engineer         55-112    \n",
       "3886                      Big Data Engineer         55-112    \n",
       "\n",
       "                                        job_description  company_rating  \\\n",
       "55    Hello, World! Codecademy has helped over 45 mi...        3.784898   \n",
       "61    Doctors Without Borders/Médecins Sans Frontièr...        3.784898   \n",
       "63    - Analyze and understand how users interact wi...        3.784898   \n",
       "82    A retail energy provider in New York is lookin...        3.784898   \n",
       "89    Job Description\\nSr. Big Data Architect:\\n\\n# ...        3.784898   \n",
       "...                                                 ...             ...   \n",
       "3814  Helping patients, pathologists and physicians ...        3.784898   \n",
       "3827  Greetings,\\n\\nJob Title- Data Engineer ( Netez...        3.784898   \n",
       "3866  Aspen Careers is currently working with a down...        3.784898   \n",
       "3882  RESPONSIBILITIES Kforce has a client in search...        3.784898   \n",
       "3886  Job Description:\\nAct as a strong developer us...        3.784898   \n",
       "\n",
       "                                           company_name  job_location  \\\n",
       "55                                          Codeacademy  New York, NY   \n",
       "61    Doctors Without Borders | Médecins Sans Fronti...  New York, NY   \n",
       "63                               Pierce Technology Corp  New York, NY   \n",
       "82                  Huxley Banking & Financial Services  New York, NY   \n",
       "89                           Financial Services Company  New York, NY   \n",
       "...                                                 ...           ...   \n",
       "3814                                          Deep Lens  Columbus, OH   \n",
       "3827                                              R Tek  Columbus, OH   \n",
       "3866                                 Aspen Careers, LLC  Columbus, OH   \n",
       "3882                         Kforce Technology Staffing  Columbus, OH   \n",
       "3886                                         Zllius Inc  Columbus, OH   \n",
       "\n",
       "     company_size  founding_year type_of_ownership company_industry  \\\n",
       "55             -1         1995.0                -1               -1   \n",
       "61             -1         1995.0                -1               -1   \n",
       "63             -1         1995.0                -1               -1   \n",
       "82             -1         1995.0                -1               -1   \n",
       "89             -1         1995.0                -1               -1   \n",
       "...           ...            ...               ...              ...   \n",
       "3814           -1         1995.0                -1               -1   \n",
       "3827           -1         1995.0                -1               -1   \n",
       "3866           -1         1995.0                -1               -1   \n",
       "3882           -1         1995.0                -1               -1   \n",
       "3886           -1         1995.0                -1               -1   \n",
       "\n",
       "     company_revenue  \n",
       "55                -1  \n",
       "61                -1  \n",
       "63                -1  \n",
       "82                -1  \n",
       "89                -1  \n",
       "...              ...  \n",
       "3814              -1  \n",
       "3827              -1  \n",
       "3866              -1  \n",
       "3882              -1  \n",
       "3886              -1  \n",
       "\n",
       "[229 rows x 11 columns]"
      ]
     },
     "execution_count": 18,
     "metadata": {},
     "output_type": "execute_result"
    }
   ],
   "source": [
    "data_us[data_us.company_revenue == \"-1\"]"
   ]
  },
  {
   "cell_type": "markdown",
   "id": "75429433-41ee-474d-8c4d-5eaf6bd04d42",
   "metadata": {},
   "source": [
    "- Here we can see that there is a tendency. The observations with missing company_revenue values also tend to have other missing values that are important to our research\n",
    "\n",
    "- Furthermore we can choose to remove those 229 rows, as this would not affect our data too significantly"
   ]
  },
  {
   "cell_type": "code",
   "execution_count": 19,
   "id": "764c295d-428e-44f9-9eb1-65509f3566d6",
   "metadata": {},
   "outputs": [],
   "source": [
    "data_us = data_us[~data_us.company_revenue.str.contains(\"-1\")]"
   ]
  },
  {
   "cell_type": "markdown",
   "id": "ad320b3f-a578-4a78-92ce-1ef71b0396ac",
   "metadata": {},
   "source": [
    "- Let's now check our company_industry columns as well"
   ]
  },
  {
   "cell_type": "code",
   "execution_count": 20,
   "id": "447bb47c-e4c0-4ff6-b980-1efafa04cd1a",
   "metadata": {},
   "outputs": [
    {
     "data": {
      "text/plain": [
       "314"
      ]
     },
     "execution_count": 20,
     "metadata": {},
     "output_type": "execute_result"
    }
   ],
   "source": [
    "data_us[data_us.company_industry == \"-1\"].value_counts().sum()"
   ]
  },
  {
   "cell_type": "markdown",
   "id": "6d4f65c5-5d37-4372-8807-474b8f30f8ed",
   "metadata": {},
   "source": [
    "- There are 314 missing values here, which we can also remove, as it's impossible to substitute them."
   ]
  },
  {
   "cell_type": "code",
   "execution_count": 21,
   "id": "6d0773ed-a1de-4896-a2c4-284a79521703",
   "metadata": {},
   "outputs": [],
   "source": [
    "data_us = data_us[~data_us.company_industry.str.contains(\"-1\")]"
   ]
  },
  {
   "cell_type": "code",
   "execution_count": 22,
   "id": "6be42d55-639d-4d96-835b-0ee3b03a9e24",
   "metadata": {},
   "outputs": [
    {
     "data": {
      "text/plain": [
       "0"
      ]
     },
     "execution_count": 22,
     "metadata": {},
     "output_type": "execute_result"
    }
   ],
   "source": [
    "data_us[data_us.type_of_ownership == \"-1\"].value_counts().sum()"
   ]
  },
  {
   "cell_type": "markdown",
   "id": "8336e5ef-0f11-4c77-9efb-3ffb685532ab",
   "metadata": {},
   "source": [
    "- type_of_ownership column looks fine"
   ]
  },
  {
   "cell_type": "code",
   "execution_count": 23,
   "id": "191af8bf-75bb-4f6f-89c0-f7846c220d68",
   "metadata": {},
   "outputs": [
    {
     "data": {
      "text/plain": [
       "0"
      ]
     },
     "execution_count": 23,
     "metadata": {},
     "output_type": "execute_result"
    }
   ],
   "source": [
    "data_us[data_us.company_size == \"-1\"].value_counts().sum()"
   ]
  },
  {
   "cell_type": "markdown",
   "id": "421737bd-0181-42ee-977f-35f16875a544",
   "metadata": {},
   "source": [
    "- Same as company_size"
   ]
  },
  {
   "cell_type": "code",
   "execution_count": 24,
   "id": "e1bbb413-8af8-4b38-8d1d-e78cc88aedde",
   "metadata": {
    "tags": []
   },
   "outputs": [
    {
     "data": {
      "text/plain": [
       "(3340, 11)"
      ]
     },
     "execution_count": 24,
     "metadata": {},
     "output_type": "execute_result"
    }
   ],
   "source": [
    "data_us.shape"
   ]
  },
  {
   "cell_type": "markdown",
   "id": "5dfd02c6-9542-4638-a07f-b0652f79e590",
   "metadata": {},
   "source": [
    "- We are left with 3340 observations and we can now continue to the next step"
   ]
  },
  {
   "cell_type": "markdown",
   "id": "aa194e6d-6f78-4ac3-adad-bcfa26d254db",
   "metadata": {},
   "source": [
    "#### Step 4. Feature Engineering:\n",
    "\n",
    "- Let's create three new columns containing the min, max, and average estimate salary\n",
    "\n",
    "- Convert the numerical values into integers\n",
    "\n",
    "- Drop the initial \"estimate_salary\" column"
   ]
  },
  {
   "cell_type": "code",
   "execution_count": 25,
   "id": "e9306f50-e4e5-438d-b215-823f3bb8157c",
   "metadata": {},
   "outputs": [],
   "source": [
    "data_us[\"min_salary_usd\"] = data_us.salary_estimate.apply(lambda x: np.float(x.split(\"-\")[0]))\n",
    "data_us[\"max_salary_usd\"] = data_us.salary_estimate.apply(lambda x: np.float(x.split(\"-\")[1]))\n",
    "\n",
    "data_us.min_salary_usd = data_us.min_salary_usd.apply(lambda x: x * 1000).astype(np.int64)\n",
    "data_us.max_salary_usd = data_us.max_salary_usd.apply(lambda x: x * 1000).astype(np.int64)\n",
    "\n",
    "data_us['average_salary_usd'] = data_us[['min_salary_usd', 'max_salary_usd']].mean(axis = 1).astype(np.int64)\n",
    "data_us.drop(\"salary_estimate\", axis = 1, inplace = True)"
   ]
  },
  {
   "cell_type": "markdown",
   "id": "f188cfb5-5f9b-4acf-b7b3-ea2b7ad76f7d",
   "metadata": {},
   "source": [
    "- Let's also convert the company_rating column into a floating number"
   ]
  },
  {
   "cell_type": "code",
   "execution_count": 26,
   "id": "feefca8a-d482-421d-8b0d-f286bbc9340a",
   "metadata": {
    "tags": []
   },
   "outputs": [],
   "source": [
    "data_us.company_rating = data_us.company_rating.apply(lambda x: np.single(x))"
   ]
  },
  {
   "cell_type": "markdown",
   "id": "1d37578a-0695-4010-b595-4dbf7d2077ff",
   "metadata": {},
   "source": [
    "- Create a separate column containing only the job state, and leave only the city name in \"job_location\""
   ]
  },
  {
   "cell_type": "code",
   "execution_count": 27,
   "id": "11fdb24f-fd91-4534-8ca4-1c008bbd3868",
   "metadata": {
    "tags": []
   },
   "outputs": [],
   "source": [
    "data_us[\"job_state\"] = data_us.job_location.apply(lambda x: x.split(\",\")[1])\n",
    "data_us.job_location = data_us.job_location.apply(lambda x: x.split(\",\")[0])"
   ]
  },
  {
   "cell_type": "code",
   "execution_count": 28,
   "id": "bb4178f9-1c05-4581-9b52-733123e97355",
   "metadata": {},
   "outputs": [
    {
     "data": {
      "text/plain": [
       " TX                1057\n",
       " CA                 916\n",
       " IL                 316\n",
       " PA                 288\n",
       " NY                 263\n",
       " AZ                 248\n",
       " OH                 153\n",
       " FL                  56\n",
       " NJ                  29\n",
       " DE                  10\n",
       " United Kingdom       4\n",
       "Name: job_state, dtype: int64"
      ]
     },
     "execution_count": 28,
     "metadata": {},
     "output_type": "execute_result"
    }
   ],
   "source": [
    "data_us.job_state.value_counts()"
   ]
  },
  {
   "cell_type": "markdown",
   "id": "7c12d785-aeaf-43bb-ac9d-dde0dc554b09",
   "metadata": {},
   "source": [
    "- We can see that there are a few jobs located in the UK, which we must delete, as they do not fit to our purpose"
   ]
  },
  {
   "cell_type": "code",
   "execution_count": 29,
   "id": "ef0f22a3-f83c-43d9-b3b9-e55d20bdf379",
   "metadata": {},
   "outputs": [],
   "source": [
    "data_us = data_us[~data_us.job_state.str.contains(\"United Kingdom\")]"
   ]
  },
  {
   "cell_type": "markdown",
   "id": "dfcac6a6-eade-4948-b460-f16d42e3453e",
   "metadata": {},
   "source": [
    "- Let's also change the state abbreviations to the full names"
   ]
  },
  {
   "cell_type": "code",
   "execution_count": 30,
   "id": "e69d1ecb-64a7-40d7-a79d-da97cc3353ac",
   "metadata": {},
   "outputs": [],
   "source": [
    "states = {\n",
    "    \"TX\": \"Texas\",\n",
    "    \"CA\": \"California\",\n",
    "    \"IL\": \"Illinois\",\n",
    "    \"PA\": \"Pennsylvania\",\n",
    "    \"NY\": \"New York\",\n",
    "    \"AZ\": \"Arizona\",\n",
    "    \"OH\": \"Ohio\",\n",
    "    \"FL\": \"Florida\",\n",
    "    \"NJ\": \"New Jersey\",\n",
    "    \"DE\": \"Delaware\"\n",
    "}"
   ]
  },
  {
   "cell_type": "code",
   "execution_count": 31,
   "id": "6f78106c-53ab-49fe-8b77-1d7d0c4af0c5",
   "metadata": {},
   "outputs": [],
   "source": [
    "data_us.job_state = data_us.job_state.str.strip().replace(states)\n"
   ]
  },
  {
   "cell_type": "code",
   "execution_count": 32,
   "id": "b5276f48-48f4-4ccd-98f6-bc3a6991136e",
   "metadata": {},
   "outputs": [
    {
     "data": {
      "text/plain": [
       "array(['New York', 'New Jersey', 'California', 'Illinois', 'Texas',\n",
       "       'Arizona', 'Delaware', 'Pennsylvania', 'Florida', 'Ohio'],\n",
       "      dtype=object)"
      ]
     },
     "execution_count": 32,
     "metadata": {},
     "output_type": "execute_result"
    }
   ],
   "source": [
    "data_us.job_state.unique()"
   ]
  },
  {
   "cell_type": "markdown",
   "id": "c118c20f-c8b5-4d2e-9158-18fcf6733237",
   "metadata": {
    "jp-MarkdownHeadingCollapsed": true,
    "tags": []
   },
   "source": [
    "- We can also calculate the company_age and use it instead of the founding year\n",
    "\n",
    "    - Convert the values into integers\n",
    "    \n",
    "    - Drop the founding_year column"
   ]
  },
  {
   "cell_type": "code",
   "execution_count": 33,
   "id": "bcf23889-a04e-4876-872a-7015a244a11e",
   "metadata": {},
   "outputs": [],
   "source": [
    "data_us[\"company_age\"] = data_us.founding_year.apply(lambda x: 2022 - x).astype(np.int64)\n",
    "\n",
    "data_us.drop(\"founding_year\", axis = 1, inplace = True)"
   ]
  },
  {
   "cell_type": "markdown",
   "id": "1299b117-3af1-4e3b-9fc2-e2a737a4963f",
   "metadata": {},
   "source": [
    "- Let's explore the type_of_ownership column a bit more and see what can be improved"
   ]
  },
  {
   "cell_type": "code",
   "execution_count": 34,
   "id": "f85164f3-0eab-4673-a072-ec9e479364c4",
   "metadata": {
    "tags": []
   },
   "outputs": [
    {
     "data": {
      "text/plain": [
       "Private                           1725\n",
       "Public                            1043\n",
       "Nonprofit Organization             191\n",
       "Subsidiary or Business Segment     156\n",
       "Government                          87\n",
       "College / University                76\n",
       "Hospital                            16\n",
       "Contract                            14\n",
       "Private Practice / Firm             11\n",
       "Unknown                              8\n",
       "Other Organization                   4\n",
       "Self-employed                        3\n",
       "Franchise                            1\n",
       "School / School District             1\n",
       "Name: type_of_ownership, dtype: int64"
      ]
     },
     "execution_count": 34,
     "metadata": {},
     "output_type": "execute_result"
    }
   ],
   "source": [
    "data_us.type_of_ownership.value_counts()"
   ]
  },
  {
   "cell_type": "markdown",
   "id": "ad583016-c32e-405f-b3f0-7aa2da661a76",
   "metadata": {},
   "source": [
    "- We can remove the \"Unknown\" and \"Other Organization\". There are only a few and they wouldn't be usable."
   ]
  },
  {
   "cell_type": "code",
   "execution_count": 35,
   "id": "4f09a2c2-03e3-4158-bac4-3041f5fe7603",
   "metadata": {},
   "outputs": [],
   "source": [
    "data_us = data_us[~data_us.type_of_ownership.str.contains(\"Unknown\")]\n",
    "data_us = data_us[~data_us.type_of_ownership.str.contains(\"Other Organization\")]"
   ]
  },
  {
   "cell_type": "markdown",
   "id": "f5b737cc-e0e5-4e13-bf8f-2b6eec6ac3fe",
   "metadata": {},
   "source": [
    "- And last, but not least, let's create new features that show if one of the top Data Science requirements are in the current job position."
   ]
  },
  {
   "cell_type": "code",
   "execution_count": 36,
   "id": "9e90efc9-4b3e-4578-a3bd-80b3f7edd053",
   "metadata": {},
   "outputs": [],
   "source": [
    "data_us['python_job'] = data_us.job_description.apply(lambda x: 1 if \"python\" in x.lower() else 0)\n",
    "data_us['rstudio_job'] = data_us.job_description.apply(lambda x: 1 if \"studio\" in x.lower() else 0)\n",
    "data_us['sql_job'] = data_us.job_description.apply(lambda x: 1 if \"sql\" in x.lower() else 0)\n",
    "data_us['excel_job'] = data_us.job_description.apply(lambda x: 1 if \"excel\" in x.lower() else 0)\n",
    "data_us['tableau_job'] = data_us.job_description.apply(lambda x: 1 if \"tableau\" in x.lower() else 0)\n",
    "data_us['ml_job'] = data_us.job_description.apply(lambda x: 1 if \"machine learning\" in x.lower() else 0)\n",
    "data_us['dl_job'] = data_us.job_description.apply(lambda x: 1 if \"deep learning\" in x.lower() else 0)\n",
    "data_us['spark_job'] = data_us.job_description.apply(lambda x: 1 if \"spark\" in x.lower() else 0)\n",
    "data_us['hadoop_job'] = data_us.job_description.apply(lambda x: 1 if \"hadoop\" in x.lower() else 0)\n",
    "data_us['sas_job'] = data_us.job_description.apply(lambda x: 1 if \"sas\" in x.lower() else 0)"
   ]
  },
  {
   "cell_type": "markdown",
   "id": "72534eea-3cba-4d4b-9e4d-920c7d813cdf",
   "metadata": {},
   "source": [
    "- We can now drop the job_description column, as we are not going to use it further."
   ]
  },
  {
   "cell_type": "code",
   "execution_count": 37,
   "id": "ee2db46c-de77-45f4-998a-91a41c165b52",
   "metadata": {},
   "outputs": [],
   "source": [
    "data_us.drop(\"job_description\", axis = 1, inplace = True)"
   ]
  },
  {
   "cell_type": "markdown",
   "id": "f2487ddb-00df-4cea-a1c3-ccb2f700e8b9",
   "metadata": {},
   "source": [
    "- and let's have a final look at our cleaned dataset"
   ]
  },
  {
   "cell_type": "code",
   "execution_count": 38,
   "id": "e56c1bdc-385c-4282-8f74-b9dd24901a21",
   "metadata": {},
   "outputs": [
    {
     "data": {
      "text/html": [
       "<div>\n",
       "<style scoped>\n",
       "    .dataframe tbody tr th:only-of-type {\n",
       "        vertical-align: middle;\n",
       "    }\n",
       "\n",
       "    .dataframe tbody tr th {\n",
       "        vertical-align: top;\n",
       "    }\n",
       "\n",
       "    .dataframe thead th {\n",
       "        text-align: right;\n",
       "    }\n",
       "</style>\n",
       "<table border=\"1\" class=\"dataframe\">\n",
       "  <thead>\n",
       "    <tr style=\"text-align: right;\">\n",
       "      <th></th>\n",
       "      <th>job_title</th>\n",
       "      <th>company_rating</th>\n",
       "      <th>company_name</th>\n",
       "      <th>job_location</th>\n",
       "      <th>company_size</th>\n",
       "      <th>type_of_ownership</th>\n",
       "      <th>company_industry</th>\n",
       "      <th>company_revenue</th>\n",
       "      <th>min_salary_usd</th>\n",
       "      <th>max_salary_usd</th>\n",
       "      <th>...</th>\n",
       "      <th>python_job</th>\n",
       "      <th>rstudio_job</th>\n",
       "      <th>sql_job</th>\n",
       "      <th>excel_job</th>\n",
       "      <th>tableau_job</th>\n",
       "      <th>ml_job</th>\n",
       "      <th>dl_job</th>\n",
       "      <th>spark_job</th>\n",
       "      <th>hadoop_job</th>\n",
       "      <th>sas_job</th>\n",
       "    </tr>\n",
       "  </thead>\n",
       "  <tbody>\n",
       "    <tr>\n",
       "      <th>0</th>\n",
       "      <td>Senior Data Scientist</td>\n",
       "      <td>3.5</td>\n",
       "      <td>Hopper</td>\n",
       "      <td>New York</td>\n",
       "      <td>501 to 1000</td>\n",
       "      <td>Private</td>\n",
       "      <td>Travel Agencies</td>\n",
       "      <td>Unknown / Non-Applicable</td>\n",
       "      <td>111000</td>\n",
       "      <td>181000</td>\n",
       "      <td>...</td>\n",
       "      <td>0</td>\n",
       "      <td>0</td>\n",
       "      <td>1</td>\n",
       "      <td>0</td>\n",
       "      <td>1</td>\n",
       "      <td>1</td>\n",
       "      <td>0</td>\n",
       "      <td>0</td>\n",
       "      <td>0</td>\n",
       "      <td>1</td>\n",
       "    </tr>\n",
       "    <tr>\n",
       "      <th>1</th>\n",
       "      <td>Data Scientist, Product Analytics</td>\n",
       "      <td>4.5</td>\n",
       "      <td>Noom US</td>\n",
       "      <td>New York</td>\n",
       "      <td>1001 to 5000</td>\n",
       "      <td>Private</td>\n",
       "      <td>Health, Beauty, &amp; Fitness</td>\n",
       "      <td>Unknown / Non-Applicable</td>\n",
       "      <td>111000</td>\n",
       "      <td>181000</td>\n",
       "      <td>...</td>\n",
       "      <td>1</td>\n",
       "      <td>0</td>\n",
       "      <td>1</td>\n",
       "      <td>1</td>\n",
       "      <td>0</td>\n",
       "      <td>1</td>\n",
       "      <td>0</td>\n",
       "      <td>0</td>\n",
       "      <td>0</td>\n",
       "      <td>0</td>\n",
       "    </tr>\n",
       "    <tr>\n",
       "      <th>3</th>\n",
       "      <td>Data Analyst</td>\n",
       "      <td>3.4</td>\n",
       "      <td>Sapphire Digital</td>\n",
       "      <td>Lyndhurst</td>\n",
       "      <td>201 to 500</td>\n",
       "      <td>Private</td>\n",
       "      <td>Internet</td>\n",
       "      <td>Unknown / Non-Applicable</td>\n",
       "      <td>111000</td>\n",
       "      <td>181000</td>\n",
       "      <td>...</td>\n",
       "      <td>1</td>\n",
       "      <td>0</td>\n",
       "      <td>1</td>\n",
       "      <td>1</td>\n",
       "      <td>0</td>\n",
       "      <td>0</td>\n",
       "      <td>0</td>\n",
       "      <td>0</td>\n",
       "      <td>0</td>\n",
       "      <td>1</td>\n",
       "    </tr>\n",
       "    <tr>\n",
       "      <th>4</th>\n",
       "      <td>Director, Data Science</td>\n",
       "      <td>3.4</td>\n",
       "      <td>United Entertainment Group</td>\n",
       "      <td>New York</td>\n",
       "      <td>51 to 200</td>\n",
       "      <td>Private</td>\n",
       "      <td>Advertising &amp; Marketing</td>\n",
       "      <td>Unknown / Non-Applicable</td>\n",
       "      <td>111000</td>\n",
       "      <td>181000</td>\n",
       "      <td>...</td>\n",
       "      <td>1</td>\n",
       "      <td>0</td>\n",
       "      <td>0</td>\n",
       "      <td>1</td>\n",
       "      <td>0</td>\n",
       "      <td>1</td>\n",
       "      <td>0</td>\n",
       "      <td>0</td>\n",
       "      <td>0</td>\n",
       "      <td>0</td>\n",
       "    </tr>\n",
       "    <tr>\n",
       "      <th>5</th>\n",
       "      <td>Data Scientist</td>\n",
       "      <td>2.9</td>\n",
       "      <td>IFG Companies</td>\n",
       "      <td>New York</td>\n",
       "      <td>201 to 500</td>\n",
       "      <td>Private</td>\n",
       "      <td>Insurance Carriers</td>\n",
       "      <td>Unknown / Non-Applicable</td>\n",
       "      <td>111000</td>\n",
       "      <td>181000</td>\n",
       "      <td>...</td>\n",
       "      <td>1</td>\n",
       "      <td>0</td>\n",
       "      <td>1</td>\n",
       "      <td>0</td>\n",
       "      <td>0</td>\n",
       "      <td>1</td>\n",
       "      <td>0</td>\n",
       "      <td>0</td>\n",
       "      <td>0</td>\n",
       "      <td>1</td>\n",
       "    </tr>\n",
       "  </tbody>\n",
       "</table>\n",
       "<p>5 rows × 23 columns</p>\n",
       "</div>"
      ],
      "text/plain": [
       "                           job_title  company_rating  \\\n",
       "0              Senior Data Scientist             3.5   \n",
       "1  Data Scientist, Product Analytics             4.5   \n",
       "3                       Data Analyst             3.4   \n",
       "4             Director, Data Science             3.4   \n",
       "5                     Data Scientist             2.9   \n",
       "\n",
       "                 company_name job_location   company_size type_of_ownership  \\\n",
       "0                      Hopper     New York   501 to 1000            Private   \n",
       "1                     Noom US     New York  1001 to 5000            Private   \n",
       "3            Sapphire Digital    Lyndhurst    201 to 500            Private   \n",
       "4  United Entertainment Group     New York     51 to 200            Private   \n",
       "5               IFG Companies     New York    201 to 500            Private   \n",
       "\n",
       "            company_industry           company_revenue  min_salary_usd  \\\n",
       "0            Travel Agencies  Unknown / Non-Applicable          111000   \n",
       "1  Health, Beauty, & Fitness  Unknown / Non-Applicable          111000   \n",
       "3                   Internet  Unknown / Non-Applicable          111000   \n",
       "4    Advertising & Marketing  Unknown / Non-Applicable          111000   \n",
       "5         Insurance Carriers  Unknown / Non-Applicable          111000   \n",
       "\n",
       "   max_salary_usd  ...  python_job rstudio_job  sql_job  excel_job  \\\n",
       "0          181000  ...           0           0        1          0   \n",
       "1          181000  ...           1           0        1          1   \n",
       "3          181000  ...           1           0        1          1   \n",
       "4          181000  ...           1           0        0          1   \n",
       "5          181000  ...           1           0        1          0   \n",
       "\n",
       "   tableau_job  ml_job  dl_job  spark_job  hadoop_job  sas_job  \n",
       "0            1       1       0          0           0        1  \n",
       "1            0       1       0          0           0        0  \n",
       "3            0       0       0          0           0        1  \n",
       "4            0       1       0          0           0        0  \n",
       "5            0       1       0          0           0        1  \n",
       "\n",
       "[5 rows x 23 columns]"
      ]
     },
     "execution_count": 38,
     "metadata": {},
     "output_type": "execute_result"
    }
   ],
   "source": [
    "data_us.head()"
   ]
  },
  {
   "cell_type": "markdown",
   "id": "1c328897-8b32-44b5-8d8e-07a7f9d3dc20",
   "metadata": {},
   "source": [
    "- And save the cleaned data into a new .csv file"
   ]
  },
  {
   "cell_type": "code",
   "execution_count": 40,
   "id": "ab454391-5ac0-40b5-9bee-b65f1b803b4c",
   "metadata": {},
   "outputs": [],
   "source": [
    "data_us.to_csv(\"data/data_us_cleaned.csv\")"
   ]
  },
  {
   "cell_type": "markdown",
   "id": "3587f361-4de6-44e7-a1cf-d3853516b470",
   "metadata": {},
   "source": [
    "- looks ready, now let's clean and process the next dataset that we are going to use:"
   ]
  }
 ],
 "metadata": {
  "kernelspec": {
   "display_name": "Python 3 (ipykernel)",
   "language": "python",
   "name": "python3"
  },
  "language_info": {
   "codemirror_mode": {
    "name": "ipython",
    "version": 3
   },
   "file_extension": ".py",
   "mimetype": "text/x-python",
   "name": "python",
   "nbconvert_exporter": "python",
   "pygments_lexer": "ipython3",
   "version": "3.9.12"
  }
 },
 "nbformat": 4,
 "nbformat_minor": 5
}
